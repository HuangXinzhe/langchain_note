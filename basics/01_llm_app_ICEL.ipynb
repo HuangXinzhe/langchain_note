{
 "cells": [
  {
   "cell_type": "markdown",
   "metadata": {},
   "source": [
    "# 使用ICEL构建简单的LLM应用"
   ]
  },
  {
   "cell_type": "markdown",
   "metadata": {},
   "source": [
    "本教程的目标：\n",
    "1. 使用语言模型\n",
    "2. 使用 PromptTemplates 和 OutputParser\n",
    "3. 使用 LangChain 表达式语言 （LCEL） 将组件链接在一起\n",
    "4. 使用 LangSmith 调试和跟踪应用程序\n",
    "5. 使用 LangServe 部署应用程序"
   ]
  },
  {
   "cell_type": "markdown",
   "metadata": {},
   "source": [
    "### 安装langchain"
   ]
  },
  {
   "cell_type": "code",
   "execution_count": null,
   "metadata": {},
   "outputs": [],
   "source": [
    "!pip install langchain"
   ]
  },
  {
   "cell_type": "markdown",
   "metadata": {},
   "source": [
    "### LangSmith\n",
    "检查整个项目中的内部情况"
   ]
  },
  {
   "cell_type": "markdown",
   "metadata": {},
   "source": [
    "设置langsmith的环境变量"
   ]
  },
  {
   "cell_type": "code",
   "execution_count": null,
   "metadata": {},
   "outputs": [],
   "source": [
    "# export LANGCHAIN_TRACING_V2=\"true\"\n",
    "# export LANGCHAIN_API_KEY=\"...\"\n",
    "import os\n",
    "from dotenv import load_dotenv, find_dotenv\n",
    "_ = load_dotenv(find_dotenv())\n",
    "\n",
    "os.environ[\"LANGCHAIN_TRACING_V2\"] = \"true\"\n",
    "os.environ[\"LANGCHAIN_API_KEY\"] = os.getenv(\"LANGCHAIN_API_KEY\")\n",
    "\n",
    "\n",
    "# import getpass\n",
    "# os.environ[\"LANGCHAIN_API_KEY\"] = getpass.getpass()  # 输入API_KEY"
   ]
  },
  {
   "cell_type": "markdown",
   "metadata": {},
   "source": [
    "## 使用语言模型"
   ]
  },
  {
   "cell_type": "code",
   "execution_count": 7,
   "metadata": {},
   "outputs": [
    {
     "name": "stdout",
     "output_type": "stream",
     "text": [
      "\u001b[31mERROR: pip's dependency resolver does not currently take into account all the packages that are installed. This behaviour is the source of the following dependency conflicts.\n",
      "langchain 0.1.9 requires langchain-core<0.2,>=0.1.26, but you have langchain-core 0.2.10 which is incompatible.\n",
      "langchain-community 0.0.24 requires langchain-core<0.2,>=0.1.26, but you have langchain-core 0.2.10 which is incompatible.\u001b[0m\u001b[31m\n",
      "\u001b[0m"
     ]
    }
   ],
   "source": [
    "# 提供多种库的支持，参考：https://python.langchain.com/v0.2/docs/tutorials/llm_chain/\n",
    "!pip install -qU langchain-openai"
   ]
  },
  {
   "cell_type": "code",
   "execution_count": 8,
   "metadata": {},
   "outputs": [],
   "source": [
    "import getpass\n",
    "import os\n",
    "from dotenv import load_dotenv, find_dotenv\n",
    "_ = load_dotenv(find_dotenv())\n",
    "\n",
    "# os.environ[\"OPENAI_API_KEY\"] = getpass.getpass()\n",
    "os.environ[\"OPENAI_API_KEY\"] = os.getenv(\"OPENAI_API_KEY\")\n",
    "os.environ[\"OPENAI_API_BASE\"] = os.getenv(\"OPENAI_API_BASE\")\n",
    "\n",
    "from langchain_openai import ChatOpenAI\n",
    "\n",
    "model = ChatOpenAI(model=\"gpt-4\")"
   ]
  },
  {
   "cell_type": "markdown",
   "metadata": {},
   "source": [
    "直接使用模型"
   ]
  },
  {
   "cell_type": "code",
   "execution_count": 9,
   "metadata": {},
   "outputs": [
    {
     "data": {
      "text/plain": [
       "AIMessage(content='ciao!', response_metadata={'token_usage': {'completion_tokens': 3, 'prompt_tokens': 20, 'total_tokens': 23}, 'model_name': 'gpt-4', 'system_fingerprint': None, 'finish_reason': 'stop', 'logprobs': None}, id='run-55addf47-44d1-41b6-a23a-d51015fd4988-0', usage_metadata={'input_tokens': 20, 'output_tokens': 3, 'total_tokens': 23})"
      ]
     },
     "execution_count": 9,
     "metadata": {},
     "output_type": "execute_result"
    }
   ],
   "source": [
    "from langchain_core.messages import HumanMessage, SystemMessage\n",
    "\n",
    "messages = [\n",
    "    SystemMessage(content=\"Translate the following from English into Italian\"),\n",
    "    HumanMessage(content=\"hi!\"),\n",
    "]\n",
    "\n",
    "model.invoke(messages)"
   ]
  },
  {
   "cell_type": "markdown",
   "metadata": {},
   "source": [
    "## 输出解析器（OutputParser）"
   ]
  },
  {
   "cell_type": "code",
   "execution_count": 10,
   "metadata": {},
   "outputs": [],
   "source": [
    "from langchain_core.output_parsers import StrOutputParser\n",
    "\n",
    "parser = StrOutputParser()"
   ]
  },
  {
   "cell_type": "code",
   "execution_count": 11,
   "metadata": {},
   "outputs": [
    {
     "data": {
      "text/plain": [
       "'Ciao!'"
      ]
     },
     "execution_count": 11,
     "metadata": {},
     "output_type": "execute_result"
    }
   ],
   "source": [
    "# 方式一：传统方式\n",
    "result = model.invoke(messages)\n",
    "parser.invoke(result)"
   ]
  },
  {
   "cell_type": "code",
   "execution_count": 12,
   "metadata": {},
   "outputs": [
    {
     "data": {
      "text/plain": [
       "'Ciao!'"
      ]
     },
     "execution_count": 12,
     "metadata": {},
     "output_type": "execute_result"
    }
   ],
   "source": [
    "# 方式二：使用chain\n",
    "chain = model | parser\n",
    "chain.invoke(messages)"
   ]
  },
  {
   "cell_type": "markdown",
   "metadata": {},
   "source": [
    "## 提示模版（Prompt Templates）"
   ]
  },
  {
   "cell_type": "code",
   "execution_count": null,
   "metadata": {},
   "outputs": [],
   "source": [
    "from langchain_core.prompts import ChatPromptTemplate"
   ]
  },
  {
   "cell_type": "code",
   "execution_count": null,
   "metadata": {},
   "outputs": [],
   "source": [
    "system_template = \"Translate the following into {language}:\""
   ]
  },
  {
   "cell_type": "code",
   "execution_count": null,
   "metadata": {},
   "outputs": [],
   "source": [
    "prompt_template = ChatPromptTemplate.from_messages(\n",
    "    [(\"system\", system_template), (\"user\", \"{text}\")]\n",
    ")"
   ]
  },
  {
   "cell_type": "code",
   "execution_count": null,
   "metadata": {},
   "outputs": [],
   "source": [
    "result = prompt_template.invoke({\"language\": \"italian\", \"text\": \"hi\"})\n",
    "\n",
    "result"
   ]
  },
  {
   "cell_type": "code",
   "execution_count": null,
   "metadata": {},
   "outputs": [],
   "source": [
    "# 直接访问消息\n",
    "result.to_messages()"
   ]
  },
  {
   "cell_type": "markdown",
   "metadata": {},
   "source": [
    "## 使用LCEL将组件链接在一起"
   ]
  },
  {
   "cell_type": "code",
   "execution_count": null,
   "metadata": {},
   "outputs": [],
   "source": [
    "chain = prompt_template | model | parser"
   ]
  },
  {
   "cell_type": "code",
   "execution_count": null,
   "metadata": {},
   "outputs": [],
   "source": [
    "chain.invoke({\"language\": \"italian\", \"text\": \"hi\"})"
   ]
  },
  {
   "cell_type": "markdown",
   "metadata": {},
   "source": [
    "## LangServe服务"
   ]
  },
  {
   "cell_type": "code",
   "execution_count": 13,
   "metadata": {},
   "outputs": [
    {
     "name": "stdout",
     "output_type": "stream",
     "text": [
      "Looking in indexes: https://pypi.tuna.tsinghua.edu.cn/simple\n",
      "Collecting langserve[all]\n",
      "  Downloading https://pypi.tuna.tsinghua.edu.cn/packages/ab/5f/75f1560ef2785d72265a20cd91291ad02e751309b8141615e88942c7b583/langserve-0.2.2-py3-none-any.whl (1.2 MB)\n",
      "\u001b[2K     \u001b[90m━━━━━━━━━━━━━━━━━━━━━━━━━━━━━━━━━━━━━━━━\u001b[0m \u001b[32m1.2/1.2 MB\u001b[0m \u001b[31m1.6 MB/s\u001b[0m eta \u001b[36m0:00:00\u001b[0m00:01\u001b[0m00:01\u001b[0m0m\n",
      "\u001b[?25hRequirement already satisfied: httpx>=0.23.0 in /Users/huangxinzhe/opt/anaconda3/envs/chatglm/lib/python3.10/site-packages (from langserve[all]) (0.27.0)\n",
      "Requirement already satisfied: langchain-core<0.3,>=0.1 in /Users/huangxinzhe/opt/anaconda3/envs/chatglm/lib/python3.10/site-packages (from langserve[all]) (0.2.10)\n",
      "Requirement already satisfied: orjson>=2 in /Users/huangxinzhe/opt/anaconda3/envs/chatglm/lib/python3.10/site-packages (from langserve[all]) (3.9.15)\n",
      "Requirement already satisfied: pydantic>=1 in /Users/huangxinzhe/opt/anaconda3/envs/chatglm/lib/python3.10/site-packages (from langserve[all]) (2.6.2)\n",
      "Collecting pyproject-toml<0.0.11,>=0.0.10 (from langserve[all])\n",
      "  Downloading https://pypi.tuna.tsinghua.edu.cn/packages/3b/56/95d700e725946200ec9b2aeee4479fcf3ca24cf6fbf0aa548160980787a5/pyproject_toml-0.0.10-py3-none-any.whl (6.9 kB)\n",
      "Requirement already satisfied: fastapi<1,>=0.90.1 in /Users/huangxinzhe/opt/anaconda3/envs/chatglm/lib/python3.10/site-packages (from langserve[all]) (0.109.0)\n",
      "Collecting sse-starlette<2.0.0,>=1.3.0 (from langserve[all])\n",
      "  Downloading https://pypi.tuna.tsinghua.edu.cn/packages/34/7e/d6087916bf58a4343459b47807a116a3a755e6ddd4857f375547e00f6252/sse_starlette-1.8.2-py3-none-any.whl (8.9 kB)\n",
      "Requirement already satisfied: starlette<0.36.0,>=0.35.0 in /Users/huangxinzhe/opt/anaconda3/envs/chatglm/lib/python3.10/site-packages (from fastapi<1,>=0.90.1->langserve[all]) (0.35.1)\n",
      "Requirement already satisfied: typing-extensions>=4.8.0 in /Users/huangxinzhe/opt/anaconda3/envs/chatglm/lib/python3.10/site-packages (from fastapi<1,>=0.90.1->langserve[all]) (4.10.0)\n",
      "Requirement already satisfied: anyio in /Users/huangxinzhe/opt/anaconda3/envs/chatglm/lib/python3.10/site-packages (from httpx>=0.23.0->langserve[all]) (4.3.0)\n",
      "Requirement already satisfied: certifi in /Users/huangxinzhe/opt/anaconda3/envs/chatglm/lib/python3.10/site-packages (from httpx>=0.23.0->langserve[all]) (2024.2.2)\n",
      "Requirement already satisfied: httpcore==1.* in /Users/huangxinzhe/opt/anaconda3/envs/chatglm/lib/python3.10/site-packages (from httpx>=0.23.0->langserve[all]) (1.0.4)\n",
      "Requirement already satisfied: idna in /Users/huangxinzhe/opt/anaconda3/envs/chatglm/lib/python3.10/site-packages (from httpx>=0.23.0->langserve[all]) (3.6)\n",
      "Requirement already satisfied: sniffio in /Users/huangxinzhe/opt/anaconda3/envs/chatglm/lib/python3.10/site-packages (from httpx>=0.23.0->langserve[all]) (1.3.1)\n",
      "Requirement already satisfied: h11<0.15,>=0.13 in /Users/huangxinzhe/opt/anaconda3/envs/chatglm/lib/python3.10/site-packages (from httpcore==1.*->httpx>=0.23.0->langserve[all]) (0.14.0)\n",
      "Requirement already satisfied: PyYAML>=5.3 in /Users/huangxinzhe/opt/anaconda3/envs/chatglm/lib/python3.10/site-packages (from langchain-core<0.3,>=0.1->langserve[all]) (6.0.1)\n",
      "Requirement already satisfied: jsonpatch<2.0,>=1.33 in /Users/huangxinzhe/opt/anaconda3/envs/chatglm/lib/python3.10/site-packages (from langchain-core<0.3,>=0.1->langserve[all]) (1.33)\n",
      "Requirement already satisfied: langsmith<0.2.0,>=0.1.75 in /Users/huangxinzhe/opt/anaconda3/envs/chatglm/lib/python3.10/site-packages (from langchain-core<0.3,>=0.1->langserve[all]) (0.1.82)\n",
      "Requirement already satisfied: packaging<25,>=23.2 in /Users/huangxinzhe/opt/anaconda3/envs/chatglm/lib/python3.10/site-packages (from langchain-core<0.3,>=0.1->langserve[all]) (23.2)\n",
      "Requirement already satisfied: tenacity!=8.4.0,<9.0.0,>=8.1.0 in /Users/huangxinzhe/opt/anaconda3/envs/chatglm/lib/python3.10/site-packages (from langchain-core<0.3,>=0.1->langserve[all]) (8.2.3)\n",
      "Requirement already satisfied: annotated-types>=0.4.0 in /Users/huangxinzhe/opt/anaconda3/envs/chatglm/lib/python3.10/site-packages (from pydantic>=1->langserve[all]) (0.6.0)\n",
      "Requirement already satisfied: pydantic-core==2.16.3 in /Users/huangxinzhe/opt/anaconda3/envs/chatglm/lib/python3.10/site-packages (from pydantic>=1->langserve[all]) (2.16.3)\n",
      "Requirement already satisfied: setuptools>=42 in /Users/huangxinzhe/opt/anaconda3/envs/chatglm/lib/python3.10/site-packages (from pyproject-toml<0.0.11,>=0.0.10->langserve[all]) (68.2.2)\n",
      "Requirement already satisfied: wheel in /Users/huangxinzhe/opt/anaconda3/envs/chatglm/lib/python3.10/site-packages (from pyproject-toml<0.0.11,>=0.0.10->langserve[all]) (0.41.2)\n",
      "Requirement already satisfied: toml in /Users/huangxinzhe/opt/anaconda3/envs/chatglm/lib/python3.10/site-packages (from pyproject-toml<0.0.11,>=0.0.10->langserve[all]) (0.10.2)\n",
      "Requirement already satisfied: jsonschema in /Users/huangxinzhe/opt/anaconda3/envs/chatglm/lib/python3.10/site-packages (from pyproject-toml<0.0.11,>=0.0.10->langserve[all]) (4.21.1)\n",
      "Requirement already satisfied: uvicorn in /Users/huangxinzhe/opt/anaconda3/envs/chatglm/lib/python3.10/site-packages (from sse-starlette<2.0.0,>=1.3.0->langserve[all]) (0.27.1)\n",
      "Requirement already satisfied: jsonpointer>=1.9 in /Users/huangxinzhe/opt/anaconda3/envs/chatglm/lib/python3.10/site-packages (from jsonpatch<2.0,>=1.33->langchain-core<0.3,>=0.1->langserve[all]) (2.4)\n",
      "Requirement already satisfied: requests<3,>=2 in /Users/huangxinzhe/opt/anaconda3/envs/chatglm/lib/python3.10/site-packages (from langsmith<0.2.0,>=0.1.75->langchain-core<0.3,>=0.1->langserve[all]) (2.31.0)\n",
      "Requirement already satisfied: exceptiongroup>=1.0.2 in /Users/huangxinzhe/opt/anaconda3/envs/chatglm/lib/python3.10/site-packages (from anyio->httpx>=0.23.0->langserve[all]) (1.2.0)\n",
      "Requirement already satisfied: attrs>=22.2.0 in /Users/huangxinzhe/opt/anaconda3/envs/chatglm/lib/python3.10/site-packages (from jsonschema->pyproject-toml<0.0.11,>=0.0.10->langserve[all]) (23.2.0)\n",
      "Requirement already satisfied: jsonschema-specifications>=2023.03.6 in /Users/huangxinzhe/opt/anaconda3/envs/chatglm/lib/python3.10/site-packages (from jsonschema->pyproject-toml<0.0.11,>=0.0.10->langserve[all]) (2023.12.1)\n",
      "Requirement already satisfied: referencing>=0.28.4 in /Users/huangxinzhe/opt/anaconda3/envs/chatglm/lib/python3.10/site-packages (from jsonschema->pyproject-toml<0.0.11,>=0.0.10->langserve[all]) (0.33.0)\n",
      "Requirement already satisfied: rpds-py>=0.7.1 in /Users/huangxinzhe/opt/anaconda3/envs/chatglm/lib/python3.10/site-packages (from jsonschema->pyproject-toml<0.0.11,>=0.0.10->langserve[all]) (0.18.0)\n",
      "Requirement already satisfied: click>=7.0 in /Users/huangxinzhe/opt/anaconda3/envs/chatglm/lib/python3.10/site-packages (from uvicorn->sse-starlette<2.0.0,>=1.3.0->langserve[all]) (8.1.7)\n",
      "Requirement already satisfied: charset-normalizer<4,>=2 in /Users/huangxinzhe/opt/anaconda3/envs/chatglm/lib/python3.10/site-packages (from requests<3,>=2->langsmith<0.2.0,>=0.1.75->langchain-core<0.3,>=0.1->langserve[all]) (3.3.2)\n",
      "Requirement already satisfied: urllib3<3,>=1.21.1 in /Users/huangxinzhe/opt/anaconda3/envs/chatglm/lib/python3.10/site-packages (from requests<3,>=2->langsmith<0.2.0,>=0.1.75->langchain-core<0.3,>=0.1->langserve[all]) (2.2.1)\n",
      "Installing collected packages: sse-starlette, pyproject-toml, langserve\n",
      "  Attempting uninstall: sse-starlette\n",
      "    Found existing installation: sse-starlette 2.0.0\n",
      "    Uninstalling sse-starlette-2.0.0:\n",
      "      Successfully uninstalled sse-starlette-2.0.0\n",
      "Successfully installed langserve-0.2.2 pyproject-toml-0.0.10 sse-starlette-1.8.2\n"
     ]
    }
   ],
   "source": [
    "!pip install \"langserve[all]\""
   ]
  },
  {
   "cell_type": "markdown",
   "metadata": {},
   "source": [
    "详见LangServe文件夹"
   ]
  },
  {
   "cell_type": "markdown",
   "metadata": {},
   "source": [
    "## 客户端使用"
   ]
  },
  {
   "cell_type": "code",
   "execution_count": null,
   "metadata": {},
   "outputs": [],
   "source": [
    "from langserve import RemoteRunnable\n",
    "\n",
    "remote_chain = RemoteRunnable(\"http://localhost:8000/chain/\")\n",
    "remote_chain.invoke({\"language\": \"italian\", \"text\": \"hi\"})"
   ]
  }
 ],
 "metadata": {
  "kernelspec": {
   "display_name": "chatglm",
   "language": "python",
   "name": "python3"
  },
  "language_info": {
   "codemirror_mode": {
    "name": "ipython",
    "version": 3
   },
   "file_extension": ".py",
   "mimetype": "text/x-python",
   "name": "python",
   "nbconvert_exporter": "python",
   "pygments_lexer": "ipython3",
   "version": "3.10.14"
  }
 },
 "nbformat": 4,
 "nbformat_minor": 2
}
